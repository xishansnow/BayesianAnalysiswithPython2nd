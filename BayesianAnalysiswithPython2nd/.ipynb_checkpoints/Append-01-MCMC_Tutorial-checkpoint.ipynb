{
 "cells": [
  {
   "cell_type": "markdown",
   "id": "40c5e8f7",
   "metadata": {},
   "source": [
    "# 附录 A： MCMC 随机性推断\n",
    "\n",
    "<style>p{text-indent:2em;2}</style>\n",
    "\n",
    "【原文】 [MCMC sampling for dummies — While My MCMC Gently Samples (twiecki.io)](https://twiecki.io/blog/2015/11/10/mcmc-sampling/)\n",
    "\n",
    "当谈论概率编程和贝叶斯统计时，通常会掩饰统计推断实际执行的细节，本质上将其视为黑匣子。概率编程好处在于“不必为构建模型而理解推断的工作原理”，但了解其原理肯定会有所帮助。\n",
    "\n",
    "当我向新手介绍一个贝叶斯模型时，他虽然没有接受过贝叶斯统计方面的培训，但通常渴望理解推断原理。而我之前的回答往往是：“ MCMC 通过构造一个以目标后验分布为平衡分布的可逆马尔可夫链，通过从后验分布中产生样本来做预测等后续任务。” 这句话没错，但似乎没有用。这很恼火，因为从来没有人告诉你概念背后的直观感觉或者动机，通常只是给你一些可怕的数学知识。我不得不花无数小时用头撞墙，直到顿悟时刻的到来。通常情况下，一旦我理解了其意思，事情就看起来不那么复杂了。[这篇博客文章](https://en.wikipedia.org/wiki/Metropolis%E2%80%93Hastings_algorithm) 试图解释 `MCMC` 采样背后的动机。\n",
    "\n",
    "下面使用代码示例，而不是公式或数学语言，开始建立直观感觉。\n",
    "\n",
    "## 1 问题及其非直观的解释\n",
    "\n",
    "首先看贝叶斯公式：\n",
    "\n",
    "```{math}\n",
    "P(\\theta|x) = \\frac{P(x|\\theta) P(\\theta)} {P(x)}\n",
    "```\n",
    "\n",
    "在给定数据情况下，能够得到模型参数 $\\theta$ 的概率分布。为计算它，将先验 $P(\\theta)$ 和似然 $P(x|\\theta)$  相乘得到分子项。通常分子项非常简单，但仔细观察分母项 $P(x)$ （也称为证据或边缘似然），会发现它是对所有可能的参数值进行积分计算而来。\n",
    "\n",
    "```{math}\n",
    "P ( x ) = \\int _ { \\theta } P ( x , \\theta ) d \\theta\n",
    "```\n",
    "\n",
    "这就是贝叶斯公式的关键难点：尽管公式看起来足够简单，但很难以封闭方式计算后验结果。\n",
    "\n",
    "如果我们解决不了什么问题，可以试着去近似它。例如，如果能从后验分布中抽取样本，就可以用蒙特卡罗方法进行后续任务的近似计算。但新的问题出现了，要直接从后验分布中抽取样本，不仅要求解贝叶斯公式，而且还要求出它的逆函数，这就更难了。\n",
    "\n",
    "能否构建一个可遍历的可逆马尔可夫链，使其均衡分布与后验分布相匹配呢？ 这听起来很疯狂，因为如果你无法计算后验，不能从中取样，那么构建这样的马尔可夫链肯定会更加困难。但令人惊讶是，这个想法非常容易实现，并存在一类通用算法来支撑，被称为[马尔可夫链蒙特卡罗](https://en.wikipedia.org/wiki/Markov_chain_Monte_Carlo)，即构造马尔可夫链进行蒙特卡罗逼近。\n",
    "\n",
    "## 2 问题设置\n",
    "\n",
    "首先，让导入 python 模块："
   ]
  },
  {
   "cell_type": "code",
   "execution_count": 1,
   "id": "16ff6568",
   "metadata": {},
   "outputs": [],
   "source": [
    "%matplotlib inline \n",
    "import numpy as np \n",
    "import scipy as sp \n",
    "import pandas as pd \n",
    "import matplotlib.pyplot as plt \n",
    "import seaborn as sns \n",
    "from scipy.stats import norm \n",
    "sns.set_style('white') \n",
    "sns.set_context('talk') \n",
    "np.random.seed(123) "
   ]
  },
  {
   "cell_type": "markdown",
   "id": "4235fd5b",
   "metadata": {},
   "source": [
    "先生成一些实验数据，以零为中心的正态分布上的 20 个点。我们的目标是估计平均值 $\\mu$ 的后验。"
   ]
  },
  {
   "cell_type": "code",
   "execution_count": 2,
   "id": "45cd0fd2",
   "metadata": {},
   "outputs": [
    {
     "name": "stderr",
     "output_type": "stream",
     "text": [
      "D:\\usr\\share\\Anaconda3\\envs\\books\\lib\\site-packages\\seaborn\\distributions.py:2619: FutureWarning: `distplot` is a deprecated function and will be removed in a future version. Please adapt your code to use either `displot` (a figure-level function with similar flexibility) or `histplot` (an axes-level function for histograms).\n",
      "  warnings.warn(msg, FutureWarning)\n"
     ]
    },
    {
     "data": {
      "image/png": "[encoded data removed]",
      "text/plain": [
       "<Figure size 432x288 with 1 Axes>"
      ]
     },
     "metadata": {},
     "output_type": "display_data"
    }
   ],
   "source": [
    "data = np.random.randn(20) \n",
    "ax = plt.subplot() \n",
    "sns.distplot(data, kde=True, ax=ax) \n",
    "_ = ax.set(title='Histogram of observed data', xlabel='x', ylabel='Num of observations')"
   ]
  },
  {
   "cell_type": "markdown",
   "id": "77eed37b",
   "metadata": {},
   "source": [
    "接下来定义模型。在这个简单例子中，假设总体和样本呈正态分布（即模型的似然是正态分布）。正态分布有两个参数：均值（ $\\mu$ ）和标准差（ $\\sigma$ ）。为简单起见，假设已知 $\\sigma=1$，想要推断 $\\mu$ 的后验。根据贝叶斯原理，对于每个想要推断的参数，必须选择一个先验。为简单起见，仍然假设参数 $\\mu$ 呈正态分布，且均值 $\\mu_\\mu = 0$ ，标准差 $\\mu_\\sigma = 1$ ，即将标准正态分布作为 $\\mu$ 的先验分布。从统计学角度，模型是：\n",
    "\n",
    "```{math}\n",
    "\\begin{aligned}\n",
    "先验：\\mu & \\sim \\operatorname{Normal}(0,1) \\\\\n",
    "似然：x \\mid \\mu & \\sim \\operatorname{Normal}(x ; \\mu, 1) \n",
    "\\end{aligned}\n",
    "```\n",
    "\n",
    "该模型较为简单，实际上可以获得后验的解析解。因为对于已知标准差的正态似然分布，$\\mu$ 的先验与后验是共轭的（高斯分布是高斯似然的共轭先验），可以较为容易地计算后验。有关这一点的数学推导，请参见（[此处](https://docs.google.com/viewer?a=v&pid=sites&srcid=ZGVmYXVsdGRvbWFpbnxiYXllc2VjdHxneDplNGY0MDljNDA5MGYxYTM)）。"
   ]
  },
  {
   "cell_type": "code",
   "execution_count": null,
   "id": "230a8126",
   "metadata": {},
   "outputs": [],
   "source": [
    "# Analytical posterior of Guassian\n",
    "def calc_posterior_analytical(data, x, mu_0, sigma_0): \n",
    "   sigma = 1. \n",
    "   n = len(data) \n",
    "   mu_post = (mu_0 / sigma_0**2 + data.sum() / sigma**2) / (1. / sigma_0**2 + n / sigma**2) \n",
    "   sigma_post = (1. / sigma_0**2 + n / sigma**2)**-1 \n",
    "   \n",
    "   return norm(mu_post, np.sqrt(sigma_post)).pdf(x) \n",
    "   \n",
    "ax = plt.subplot() \n",
    "x = np.linspace(-1, 1, 500) \n",
    "\n",
    "posterior_analytical = calc_posterior_analytical(data, x, 0., 1.) \n",
    "\n",
    "ax.plot(x, posterior_analytical) \n",
    "ax.set(xlabel='mu', ylabel='belief', title='Analytical posterior'); \n",
    "sns.despine() "
   ]
  },
  {
   "cell_type": "markdown",
   "id": "c287fdcf",
   "metadata": {},
   "source": [
    "这显示了我们的兴趣量，即在考虑到先验信息并看到数据后，参数值 $\\mu$ 的概率。但需要清楚，当先验假设并非共轭时，很难获得如此简单的解析解。\n",
    "\n",
    "## 3 MCMC 采样的代码说明\n",
    "\n",
    "现在来理解采样逻辑。首先找到起始参数位置（可以随机选择），任意固定为：\n",
    "\n",
    "```\n",
    "mu_current = 1\n",
    "proposal_width = 1\n",
    "```\n",
    "\n",
    "### （1）位置提议\n",
    "\n",
    "先建议从该位置移动到其他位置（建议的方法可以简单也可以复杂，可以跳跃也可以平稳，当这种移动是平稳时，通常正是 MCMC 的马尔可夫部分）。著名的`Metropolis 采样器`采用的就是比较简单的办法，它从以当前 `mu_current` 为中心的正态分布中抽取样本（注意：此处是 `Metropolis 准则`的设计要求，并非源于模型的高斯假设），该值具有一定标准差（`proposal_width`），该标准差将决定建议移动的距离（这里使用了 `scipy.stats.norm` 计算距离）：\n",
    "\n",
    "```\n",
    "mu_proposal = norm(mu_current, proposal_width).rvs()\n",
    "```\n",
    "\n",
    "### （2）位置评估\n",
    "\n",
    "接下来，将评估这是否是一个好位置。如果所建议的 `mu_proposal` 得到的正态分布比原来的 `mu_current` 更能够解释数据，则肯定想去建议位置。“更好地解释数据”是什么意思？ 我们按照当前平均值（`mu_current`）和建议平均值（`mu_proposal`）以及已知标准差 `sigma = 1` 分别计算似然（通过 `scipy.stats.Normal(µ，sigma).pdf(Data)` 计算每个数据点的概率，然后将各数据点的概率相乘），而后进行量化拟合。\n",
    "\n",
    "```\n",
    "# 计算似然 Likelihood\n",
    "likelihood_current = norm(mu_current, 1).pdf(data).prod()\n",
    "likelihood_proposal = norm(mu_proposal, 1).pdf(data).prod()\n",
    "\n",
    "# 计算先验 Prior        \n",
    "prior_current = norm(mu_prior_mu, mu_prior_sd).pdf(mu_current)\n",
    "prior_proposal = norm(mu_prior_mu, mu_prior_sd).pdf(mu_proposal)\n",
    "\n",
    "# 计算分子项 Nominator of Bayes formula\n",
    "p_current = likelihood_current * prior_current\n",
    "p_proposal = likelihood_proposal * prior_proposal\n",
    "```\n",
    "\n",
    "到目前为止，我们基本上可以设计一个爬山算法。该算法从一个随机值开始，只按照建议的随机方向移动。按照最大似然目标，应当只有在建议参数值（ `mu_proposal`）的分子项高于当前值（`mu_current`）的分子项时才接受移动，并最终逼近 $\\mu = 0$。 但由于初始值是随机选择的，为了获得完整后验，也需要接受建议值小于当前值的情况，此时可以定义两个分子项的比值作为接受率，用其确定接受移动的概率，接受率越大，则接受移动的概率越高。\n",
    "\n",
    "```\n",
    "p_accept = p_proposal / p_current\n",
    "```\n",
    "\n",
    "以上 `p_accept` 即为接受率。如果 `p_accept > 1` ，则肯定接受移动；如果 `p_accept < 1`，则以 `p_accept` 为概率决定是否接受移动。例如：当 `p_accept = 0.5` 时，即建议的参数值解释数据的能力只有当前值一半时，有 50% 的机会选择接受移动。\n",
    "\n",
    "```\n",
    "accept = np.random.rand() < p_accept\n",
    "\n",
    "if accept:\n",
    "    # Update position\n",
    "    cur_pos = proposal\n",
    "```\n",
    "\n",
    "这个简单程序为我们提供了后验的样本。\n",
    "\n",
    "## 4 为什么会起作用？\n",
    "\n",
    "请注意，接受率 `p_accept` 是整个事情得以解决的主要原因。下式为 `p_accept` 的直观解释，可以看出，接受率实质上是建议值的后验与当前值后验的比值：\n",
    "\n",
    "```{math}\n",
    "\\frac{\\frac{P(x \\mid \\mu) P(\\mu)}{P(x)}}{\\frac{P(x \\mid \\mu 0) P(\\mu 0}{P(x)}}=\\frac{P(x \\mid \\mu) P(\\mu)}{P\\left(x \\mid \\mu_{0}\\right) P\\left(\\mu_{0}\\right)}\n",
    "```\n",
    "\n",
    "将建议参数的后验除以当前参数的后验，证据 $P(x)$ 被抵消了。可以直觉地认为，是在用一个位置的全部后验除以另一个位置的全部后验。这样，我们访问后验概率较高的区域比后验概率较低的区域就要频繁得多。\n",
    "\n",
    "将上述过程放在一起："
   ]
  },
  {
   "cell_type": "code",
   "execution_count": null,
   "id": "6dbd9392",
   "metadata": {},
   "outputs": [],
   "source": [
    "def sampler(data, samples=4, mu_init=.5, proposal_width=.5, plot=False, mu_prior_mu=0, mu_prior_sd=1.): \n",
    "   mu_current = mu_init \n",
    "   posterior = [mu_current] \n",
    "\n",
    "   for i in range(samples): \n",
    "       # 提出一个建议值 suggest new position \n",
    "       mu_proposal = norm(mu_current, proposal_width).rvs() \n",
    "\n",
    "       # 计算当前值和建议值的似然 Compute likelihood by multiplying probabilities of each data point \n",
    "       likelihood_current = norm(mu_current, 1).pdf(data).prod() \n",
    "       likelihood_proposal = norm(mu_proposal, 1).pdf(data).prod() \n",
    "        \n",
    "       # 计算当前值和建议值的先验概率 Compute prior probability of current and proposed mu         \n",
    "       prior_current = norm(mu_prior_mu, mu_prior_sd).pdf(mu_current) \n",
    "       prior_proposal = norm(mu_prior_mu, mu_prior_sd).pdf(mu_proposal) \n",
    "    \n",
    "       # 计算后验的分子项\n",
    "       p_current = likelihood_current * prior_current \n",
    "       p_proposal = likelihood_proposal * prior_proposal \n",
    "        \n",
    "       # 获得接受概率 Accept proposal? \n",
    "       p_accept = p_proposal / p_current \n",
    "        \n",
    "       # Usually would include prior probability, which we neglect here for simplicity \n",
    "       accept = np.random.rand() < p_accept \n",
    "        \n",
    "       if plot: \n",
    "           plot_proposal(mu_current, mu_proposal, mu_prior_mu, mu_prior_sd, data, accept, posterior, i) \n",
    "        \n",
    "       if accept: \n",
    "           # Update position \n",
    "           mu_current = mu_proposal \n",
    "        \n",
    "       posterior.append(mu_current) \n",
    "        \n",
    "   return np.array(posterior) \n",
    "\n",
    "# Function to display \n",
    "def plot_proposal(mu_current, mu_proposal, mu_prior_mu, mu_prior_sd, data, accepted, trace, i): \n",
    "   from copy import copy \n",
    "   trace = copy(trace) \n",
    "   fig, (ax1, ax2, ax3, ax4) = plt.subplots(ncols=4, figsize=(16, 4)) \n",
    "   fig.suptitle('Iteration %i' % (i + 1)) \n",
    "   x = np.linspace(-3, 3, 5000) \n",
    "   color = 'g' if accepted else 'r' \n",
    "        \n",
    "   # 先验Plot prior \n",
    "   prior_current = norm(mu_prior_mu, mu_prior_sd).pdf(mu_current) \n",
    "   prior_proposal = norm(mu_prior_mu, mu_prior_sd).pdf(mu_proposal) \n",
    "\n",
    "   prior = norm(mu_prior_mu, mu_prior_sd).pdf(x) \n",
    "   ax1.plot(x, prior) \n",
    "   ax1.plot([mu_current] * 2, [0, prior_current], marker='o', color='b') \n",
    "   ax1.plot([mu_proposal] * 2, [0, prior_proposal], marker='o', color=color) \n",
    "   ax1.annotate(\"\", xy=(mu_proposal, 0.2), xytext=(mu_current, 0.2), arrowprops=dict(arrowstyle=\"->\", lw=2.)) \n",
    "   ax1.set(ylabel='Probability Density', title='current: prior(mu=%.2f) = %.2f\\nproposal: prior(mu=%.2f) = %.2f' % (mu_current, prior_current, mu_proposal, prior_proposal)) \n",
    "    \n",
    "   # 似然 Likelihood \n",
    "   likelihood_current = norm(mu_current, 1).pdf(data).prod() \n",
    "   likelihood_proposal = norm(mu_proposal, 1).pdf(data).prod() \n",
    "\n",
    "   y = norm(loc=mu_proposal, scale=1).pdf(x) \n",
    "   sns.distplot(data, kde=False, norm_hist=True, ax=ax2) \n",
    "   ax2.plot(x, y, color=color) \n",
    "   ax2.axvline(mu_current, color= 'b' , linestyle='--' , label= 'mu_current' ) \n",
    "   ax2.axvline(mu_proposal, color=color, linestyle='--', label='mu_proposal') \n",
    "   #ax2.title('Proposal {}'.format('accepted' if accepted else 'rejected')) \n",
    "   ax2.annotate(\"\", xy=(mu_proposal, 0.2), xytext=(mu_current, 0.2), arrowprops=dict(arrowstyle=\"->\", lw=2.)) \n",
    "   ax2.set(title='likelihood(mu=%.2f) = %.2f\\nlikelihood(mu=%.2f) = %.2f' % (mu_current, 1e14*likelihood_current, mu_proposal, 1e14*likelihood_proposal)) \n",
    "    \n",
    "   # 后验 Posterior \n",
    "   posterior_analytical = calc_posterior_analytical(data, x, mu_prior_mu, mu_prior_sd) \n",
    "   ax3.plot(x, posterior_analytical) \n",
    "   posterior_current = calc_posterior_analytical(data, mu_current, mu_prior_mu, mu_prior_sd) \n",
    "   posterior_proposal = calc_posterior_analytical(data, mu_proposal, mu_prior_mu, mu_prior_sd) \n",
    "   \n",
    "   ax3.plot([mu_current] * 2, [0, posterior_current], marker='o', color='b') \n",
    "   ax3.plot([mu_proposal] * 2, [0, posterior_proposal], marker='o', color=color) \n",
    "   ax3.annotate(\"\", xy=(mu_proposal, 0.2), xytext=(mu_current, 0.2),arrowprops=dict(arrowstyle=\"->\", lw=2.)) \n",
    "   #ax3.set(title=r'prior x likelihood $\\propto$ posterior') \n",
    "   ax3.set(title='posterior(mu=%.2f) = %.5f\\nposterior(mu=%.2f) = %.5f' % (mu_current, posterior_current, mu_proposal, posterior_proposal)) \n",
    "    \n",
    "   if accepted: \n",
    "       trace.append(mu_proposal) \n",
    "   else: \n",
    "       trace.append(mu_current) \n",
    "\n",
    "   ax4.plot(trace) \n",
    "   ax4.set(xlabel='iteration', ylabel='mu', title='trace') \n",
    "   plt.tight_layout() \n",
    "   #plt.legend() "
   ]
  },
  {
   "cell_type": "markdown",
   "id": "fef4390d",
   "metadata": {},
   "source": [
    "## 5 可视化 MCMC\n",
    "\n",
    "为了使采样可视化，我们将为计算出的一些量创建曲线图。下面图中的每一行都是 `Metropolis 采样器`的一次迭代。\n",
    "\n",
    "第一列是先验分布，即看到数据之前对于 $\\mu$ 的信念。可以看到分布是静态的，我们只是插入了 $\\mu$ 的建议值。蓝色竖线表示当前 $\\mu$ ，而红色或绿色竖线表示建议 $\\mu$，分别被拒绝或接受。\n",
    "\n",
    "第二列是似然，用来评估模型对数据的解释能力。可以看到，似然随建议值变化而变化。蓝色直方图是数据，绿色或红色实线是当前值和建议值的似然。直观地说，似然与数据之间的重叠越多，模型对数据的解释就越好，由此产生的概率也就越高。相同颜色的虚线是建议值的 $\\mu$ ，而蓝色虚线是当前值的 $\\mu$ 。\n",
    "\n",
    "第三列是后验分布。这里显示的是归一化后验，但正如上面所提到的，可以将 “先验 x 似然” 得到非归一化的后验值；然后两者相除得到接受率 `p_accept` 。\n",
    "\n",
    "第四列是迹（即生成的后验样本），存储了所有建议值，不管它是被接受还是被拒绝。\n",
    "\n",
    "我们经常根据后验密度移动到相对更可能的 $\\mu$ 值，只是有时移动到相对不太可能的值，就像在第 14 次迭代中看到的那样。"
   ]
  },
  {
   "cell_type": "code",
   "execution_count": null,
   "id": "121220cc",
   "metadata": {},
   "outputs": [],
   "source": [
    "np.random.seed(123) \n",
    "sampler(data, samples=20, mu_init=-1., plot=True)"
   ]
  },
  {
   "cell_type": "markdown",
   "id": "86d03626",
   "metadata": {},
   "source": [
    "MCMC 的神奇之处在于，只要做足够长的时间，就会产生来自模型后验分布的样本。有一个严格的数学证明可以保证这一点，但在这里不会详细说明。为了解这会产生什么，让我们抽取大量样本（建议值）并绘制其曲线图。"
   ]
  },
  {
   "cell_type": "code",
   "execution_count": null,
   "id": "db7b78eb",
   "metadata": {},
   "outputs": [],
   "source": [
    "posterior = sampler(data, samples=15000, mu_init=1.) \n",
    "fig, ax = plt.subplots() \n",
    "ax.plot(posterior) \n",
    "_ = ax.set(xlabel='sample', ylabel='mu'); "
   ]
  },
  {
   "cell_type": "markdown",
   "id": "d7492a88",
   "metadata": {},
   "source": [
    "代码抽取的所有样本（建议值）构成迹。**要得到近似的后验，只需计算迹的直方图即可**。需要注意的是，尽管后验直方图看起来与上面为拟合模型而生成的采样数据直方图非常像，但其实两者应当是完全分离的。下图表示了我们对 $\\mu$ 的信念，本例中后验碰巧也是正态分布，因此与似然和先验相似，但实际上对于不同模型，后验可能具有与似然或先验完全不同的形状。"
   ]
  },
  {
   "cell_type": "code",
   "execution_count": null,
   "id": "61ccf77d",
   "metadata": {},
   "outputs": [],
   "source": [
    "ax = plt.subplot() \n",
    "sns.distplot(posterior[500:], ax=ax, label='estimated posterior') \n",
    "x = np.linspace(-.5, .5, 500) \n",
    "post = calc_posterior_analytical(data, x, 0, 1) \n",
    "ax.plot(x, post, 'g', label='analytic posterior') \n",
    "_ = ax.set(xlabel='mu', ylabel='belief'); \n",
    "ax.legend();"
   ]
  },
  {
   "cell_type": "markdown",
   "id": "2de00af8",
   "metadata": {},
   "source": [
    "如您所见，通过上面过程，我们得到了与解析解非常吻合的后验分布样本。\n",
    "\n",
    "## 6 建议宽度\n",
    "\n",
    "上面代码将建议宽度 `proposal_width` 设置为 0.5。事实证明，这是一个不错的值。一般来说，不希望宽度太窄，因为宽度越窄就需要越长时间来探索整个参数空间，从而造成采样效率会下降，并且出现随机游走的现象："
   ]
  },
  {
   "cell_type": "code",
   "execution_count": null,
   "id": "ba5717a8",
   "metadata": {},
   "outputs": [],
   "source": [
    "posterior_small = sampler(data, samples=5000, mu_init=1., proposal_width=.01) \n",
    "fig, ax = plt.subplots() \n",
    "ax.plot(posterior_small)\n",
    "_ = ax.set(xlabel='sample', ylabel='mu')"
   ]
  },
  {
   "cell_type": "markdown",
   "id": "7c35b063",
   "metadata": {},
   "source": [
    "但你也不希望它太大，以至于永远不会接受移动："
   ]
  },
  {
   "cell_type": "code",
   "execution_count": null,
   "id": "424fcaca",
   "metadata": {},
   "outputs": [],
   "source": [
    "posterior_large = sampler(data, samples=5000, mu_init=1., proposal_width=3.) \n",
    "fig, ax = plt.subplots() \n",
    "ax.plot(posterior_large); plt.xlabel('sample'); plt.ylabel('mu')\n",
    "_ = ax.set(xlabel='sample', ylabel='mu')"
   ]
  },
  {
   "cell_type": "markdown",
   "id": "d40e5173",
   "metadata": {},
   "source": [
    "注意，不管建议宽度如何选择，数学证明保证了我们仍在从目标后验中采样，只是效率较低："
   ]
  },
  {
   "cell_type": "code",
   "execution_count": null,
   "id": "7b611565",
   "metadata": {},
   "outputs": [],
   "source": [
    "sns.distplot(posterior_small[1000:], label='Small step size') \n",
    "sns.distplot(posterior_large[1000:], label='Large step size')\n",
    "_ = plt.legend()"
   ]
  },
  {
   "cell_type": "markdown",
   "id": "48739c95",
   "metadata": {},
   "source": [
    "更多样本最终会看起来像真实后验，关键是样本应当彼此独立，但显然在本例中并非如此。因此，可以采用自相关性来量化评估采样器的效果，即分析第 $i$ 个样本与第 $i-1$ 、$i-2$ 个样本的相关性如何："
   ]
  },
  {
   "cell_type": "code",
   "execution_count": null,
   "id": "ca7e3383",
   "metadata": {},
   "outputs": [],
   "source": [
    "from pymc3.stats import autocorr \n",
    "lags = np.arange(1, 100) \n",
    "fig, ax = plt.subplots() \n",
    "\n",
    "ax.plot(lags, [autocorr(posterior_large, l) for l in lags], label='large step size') \n",
    "ax.plot(lags, [autocorr(posterior_small, l) for l in lags], label='small step size') \n",
    "ax.plot(lags, [autocorr(posterior, l) for l in lags], label='medium step size') \n",
    "\n",
    "ax.legend(loc=0) \n",
    "_ = ax.set(xlabel='lag', ylabel='autocorrelation', ylim=(-.1, 1))"
   ]
  },
  {
   "cell_type": "markdown",
   "id": "40d5198f",
   "metadata": {},
   "source": [
    "显然，我们希望有一种智能方法来自动计算出正确的步宽。一种常见方法是不断调整建议宽度，以便大约 50% 的建议被拒绝。\n",
    "\n",
    "## 7 扩展到更复杂的模型\n",
    "\n",
    "我们还可以为标准差添加一个 $\\sigma$ 参数，然后对第二个参数执行相同的步骤。在此情况下，要为 $\\mu$ 和 $\\sigma$ 两者生成建议值，不过算法逻辑几乎相同。我们也可以从非常不同的分布（如：二项分布）抽取数据，但依然使用相同算法并得到正确后验。这就是概率编程巨大的好处：只需定义想要的模型，让 MCMC 负责推断。\n",
    "\n",
    "例如：下面的模型可以很容易地用 PyMC3 编写。我们继续使用 `Metropolis 采样器`（自动调整建议宽度），并得到了相同的结果。有关更多信息以及更复杂的示例，请参阅 PyMC3 文档 （http://pymc-devs.github.io/pymc3/getting_started/）。"
   ]
  },
  {
   "cell_type": "code",
   "execution_count": null,
   "id": "68c2ca1a",
   "metadata": {},
   "outputs": [],
   "source": [
    "import pymc3 as pm \n",
    "with pm.Model(): \n",
    "   mu = pm.Normal('mu', 0, 1) \n",
    "   sigma = 1. \n",
    "   returns = pm.Normal('returns', mu=mu, sd=sigma, observed=data) \n",
    "    \n",
    "   step = pm.Metropolis() \n",
    "   trace = pm.sample(15000, step) \n",
    "    \n",
    "sns.distplot(trace[2000:]['mu'], label='PyMC3 sampler')\n",
    "sns.distplot(posterior[500:], label='Hand-written sampler')\n",
    "plt.legend()"
   ]
  },
  {
   "cell_type": "markdown",
   "id": "b46a5c55",
   "metadata": {},
   "source": [
    "## 8 总结\n",
    "\n",
    "有关 MCMC 的细节当然重要，但还有很多其他帖子介绍它。因此，本文重点在于直观地介绍 `MCMC` 和 `Metropolis 采样器`的核心思想。希望您已经形成了直观感觉。其他更奇特的 MCMC 算法，如：哈密尔顿蒙特卡罗（HMC），与此非常相似，只是提出建议值的方法要聪明得多。\n",
    "\n",
    "本文有 Jupyter Notebook 版本，可以从 [此处](https://github.com/twiecki/WhileMyMCMCGentlySamples/blob/master/content/downloads/notebooks/MCMC-sampling-for-dummies.ipynb)  下载。"
   ]
  }
 ],
 "metadata": {
  "jupytext": {
   "formats": "ipynb,md:myst",
   "text_representation": {
    "extension": ".md",
    "format_name": "myst",
    "format_version": 0.13,
    "jupytext_version": "1.12.0"
   }
  },
  "kernelspec": {
   "display_name": "Python 3 (ipykernel)",
   "language": "python",
   "name": "python3"
  },
  "language_info": {
   "codemirror_mode": {
    "name": "ipython",
    "version": 3
   },
   "file_extension": ".py",
   "mimetype": "text/x-python",
   "name": "python",
   "nbconvert_exporter": "python",
   "pygments_lexer": "ipython3",
   "version": "3.8.11"
  }
 },
 "nbformat": 4,
 "nbformat_minor": 5
}
