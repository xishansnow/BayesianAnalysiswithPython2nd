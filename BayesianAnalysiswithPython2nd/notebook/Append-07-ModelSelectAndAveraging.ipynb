{
 "cells": [
  {
   "cell_type": "markdown",
   "id": "2c205d04",
   "metadata": {},
   "source": [
    "# 附录 G：模型选择与模型平均\n",
    "\n",
    "[原文](https://twiecki.io/blog/2016/06/01/bayesian-deep-learning/)\n",
    "\n",
    "<style>p{text-indent:2em;2}</style>\n",
    "\n",
    "1. 在模型之间作出选择\n",
    "\n",
    "2. 获取众家之长"
   ]
  }
 ],
 "metadata": {
  "jupytext": {
   "formats": "ipynb,md:myst"
  },
  "kernelspec": {
   "display_name": "Python 3",
   "language": "python3",
   "name": "python3"
  }
 },
 "nbformat": 4,
 "nbformat_minor": 5
}
