{
 "cells": [
  {
   "cell_type": "markdown",
   "id": "509d806b",
   "metadata": {},
   "source": [
    "# 附录 G：模型选择与模型平均\n",
    "\n",
    "[原文](https://twiecki.io/blog/2016/06/01/bayesian-deep-learning/)\n",
    "\n",
    "<style>p{text-indent:2em;2}</style>\n",
    "\n",
    "1. 在模型之间作出选择\n",
    "\n",
    "2. 获取众家之长"
   ]
  }
 ],
 "metadata": {
  "jupytext": {
   "formats": "ipynb,md:myst",
   "text_representation": {
    "extension": ".md",
    "format_name": "myst",
    "format_version": 0.13,
    "jupytext_version": "1.12.0"
   }
  },
  "kernelspec": {
   "display_name": "Python 3",
   "language": "ipython3",
   "name": "python3"
  },
  "language_info": {
   "codemirror_mode": {
    "name": "ipython",
    "version": 3
   },
   "file_extension": ".py",
   "mimetype": "text/x-python",
   "name": "python",
   "nbconvert_exporter": "python",
   "pygments_lexer": "ipython3",
   "version": "3.8.12"
  },
  "source_map": [
   13
  ]
 },
 "nbformat": 4,
 "nbformat_minor": 5
}